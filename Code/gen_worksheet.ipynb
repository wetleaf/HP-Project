{
 "cells": [
  {
   "cell_type": "code",
   "execution_count": 11,
   "metadata": {},
   "outputs": [],
   "source": [
    "from pylatex import Document, Section, Subsection, Command ,MiniPage\n",
    "from pylatex.utils import italic, NoEscape\n",
    "from pylatex.base_classes import Environment, Arguments\n",
    "from pylatex.package import Package"
   ]
  },
  {
   "cell_type": "code",
   "execution_count": null,
   "metadata": {},
   "outputs": [],
   "source": [
    "def add_question(question,doc):\n",
    "    return"
   ]
  },
  {
   "cell_type": "code",
   "execution_count": 12,
   "metadata": {},
   "outputs": [],
   "source": [
    "num_problems = 10\n",
    "\n",
    "class Adjustbox(Environment):\n",
    "    packages = [Package('adjustbox')]\n",
    "    escape = False\n",
    "    content_separator = \"\\n\"\n",
    "\n",
    "doc = Document(default_filepath=\"worksheet\",\n",
    "               fontenc=None, \n",
    "               inputenc= None,\n",
    "               lmodern=False,\n",
    "               textcomp=False,\n",
    "               geometry_options= 'a4paper,left=40px,right=40px,top=73px,bottom=50px,'\n",
    "            )\n",
    "\n",
    "doc.preamble.append(Command('usepackage','fancyhdr'))\n",
    "# doc.preamble.append(Command('usepackage','adjustbox'))\n",
    "doc.preamble.append(Command('usepackage','dashbox'))\n",
    "doc.preamble.append(Command('usepackage','tikz'))\n",
    "\n",
    "doc.preamble.append(Command('pagestyle','fancy'))\n",
    "doc.preamble.append(Command('renewcommand',Command(\"headrulewidth\"),extra_arguments='0.0pt'))\n",
    "doc.preamble.append(Command('renewcommand',Command(\"footrulewidth\"),extra_arguments='0.0pt'))\n",
    "doc.preamble.append(Command('rfoot','printlearncenter.com'))\n",
    "\n",
    "\n",
    "doc.append(Command(\"lhead\",NoEscape(r'\\LARGE \\textbf{' + \"{}\".format(\"Question\") + '}')))\n",
    "doc.append(\"Hello\")\n",
    "\n",
    "with doc.create(Adjustbox(arguments=Arguments(NoEscape(r'minipage=[s][\\pdfpageheight-133px][s]{\\pdfpagewidth-90px},precode=\\dbox')))):\n",
    "    doc.append(\"Hello\")\n",
    "\n",
    "doc.generate_pdf()\n",
    "doc.generate_tex()"
   ]
  }
 ],
 "metadata": {
  "kernelspec": {
   "display_name": "Python 3",
   "language": "python",
   "name": "python3"
  },
  "language_info": {
   "codemirror_mode": {
    "name": "ipython",
    "version": 3
   },
   "file_extension": ".py",
   "mimetype": "text/x-python",
   "name": "python",
   "nbconvert_exporter": "python",
   "pygments_lexer": "ipython3",
   "version": "3.11.3"
  },
  "orig_nbformat": 4
 },
 "nbformat": 4,
 "nbformat_minor": 2
}
